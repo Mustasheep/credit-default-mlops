{
 "cells": [
  {
   "cell_type": "code",
   "execution_count": 5,
   "id": "6623ecab",
   "metadata": {},
   "outputs": [],
   "source": [
    "import pandas as pd\n",
    "import numpy as np"
   ]
  },
  {
   "cell_type": "code",
   "execution_count": 14,
   "id": "f4973d99",
   "metadata": {},
   "outputs": [],
   "source": [
    "# Carregar dataset criado\n",
    "df = pd.read_csv('../data/raw/credit_default_dataset.csv')"
   ]
  },
  {
   "cell_type": "code",
   "execution_count": 15,
   "id": "9db48a4a",
   "metadata": {},
   "outputs": [
    {
     "name": "stdout",
     "output_type": "stream",
     "text": [
      "\n",
      "ANÁLISE DA VARIÁVEL TARGET\n",
      "----------------------------------------\n",
      "Distribuição de Inadimplência:\n",
      "  Adimplentes (0): 4,580 (91.6%)\n",
      "  Inadimplentes (1): 420 (8.4%)\n",
      "  Razão Inadimplentes/Adimplentes: 1:10.9\n"
     ]
    }
   ],
   "source": [
    "# 1. Análise da Distribuição da Variável Target\n",
    "print(\"\\nANÁLISE DA VARIÁVEL TARGET\")\n",
    "print(\"-\" * 40)\n",
    "default_counts = df['default'].value_counts()\n",
    "default_props = df['default'].value_counts(normalize=True)\n",
    "\n",
    "print(\"Distribuição de Inadimplência:\")\n",
    "print(f\"  Adimplentes (0): {default_counts[0]:,} ({default_props[0]:.1%})\")\n",
    "print(f\"  Inadimplentes (1): {default_counts[1]:,} ({default_props[1]:.1%})\")\n",
    "print(f\"  Razão Inadimplentes/Adimplentes: 1:{default_counts[0]/default_counts[1]:.1f}\")"
   ]
  },
  {
   "cell_type": "code",
   "execution_count": 18,
   "id": "917afef2",
   "metadata": {},
   "outputs": [
    {
     "name": "stdout",
     "output_type": "stream",
     "text": [
      "\n",
      "ANÁLISE DEMOGRÁFICA\n",
      "----------------------------------------\n",
      "📊 Distribuição por Gênero:\n",
      "               Total  Inadimplentes  Taxa_Inadimplência\n",
      "Masculino (1)   2039            172               0.084\n",
      "Feminino (2)    2961            248               0.084\n",
      "\n",
      "📊 Distribuição por Educação:\n",
      "                   Total  Inadimplentes  Taxa_Inadimplência\n",
      "Pós-graduação (1)    752             59               0.078\n",
      "Universidade (2)    2283            191               0.084\n",
      "Ensino Médio (3)    1738            151               0.087\n",
      "Outros (4)           227             19               0.084\n",
      "\n",
      "📊 Distribuição por Estado Civil:\n",
      "              Total  Inadimplentes  Taxa_Inadimplência\n",
      "Casado (1)     2468            217               0.088\n",
      "Solteiro (2)   2031            158               0.078\n",
      "Outros (3)      501             45               0.090\n"
     ]
    }
   ],
   "source": [
    "print(\"\\nANÁLISE DEMOGRÁFICA\")\n",
    "print(\"-\" * 40)\n",
    "\n",
    "print(\"📊 Distribuição por Gênero:\")\n",
    "sex_analysis = df.groupby('SEX')['default'].agg(['count', 'sum', 'mean']).round(3)\n",
    "sex_analysis.index = ['Masculino (1)', 'Feminino (2)']\n",
    "sex_analysis.columns = ['Total', 'Inadimplentes', 'Taxa_Inadimplência']\n",
    "print(sex_analysis)\n",
    "\n",
    "print(\"\\n📊 Distribuição por Educação:\")\n",
    "edu_analysis = df.groupby('EDUCATION')['default'].agg(['count', 'sum', 'mean']).round(3)\n",
    "edu_analysis.index = ['Pós-graduação (1)', 'Universidade (2)', 'Ensino Médio (3)', 'Outros (4)']\n",
    "edu_analysis.columns = ['Total', 'Inadimplentes', 'Taxa_Inadimplência']\n",
    "print(edu_analysis)\n",
    "\n",
    "print(\"\\n📊 Distribuição por Estado Civil:\")\n",
    "marriage_analysis = df.groupby('MARRIAGE')['default'].agg(['count', 'sum', 'mean']).round(3)\n",
    "marriage_analysis.index = ['Casado (1)', 'Solteiro (2)', 'Outros (3)']\n",
    "marriage_analysis.columns = ['Total', 'Inadimplentes', 'Taxa_Inadimplência']\n",
    "print(marriage_analysis)"
   ]
  },
  {
   "cell_type": "code",
   "execution_count": 20,
   "id": "deb2411b",
   "metadata": {},
   "outputs": [
    {
     "name": "stdout",
     "output_type": "stream",
     "text": [
      "\n",
      "ANÁLISE ETÁRIA\n",
      "----------------------------------------\n",
      "📊 Estatísticas de Idade por Status:\n",
      "                count  mean   std   min   25%   50%   75%   max\n",
      "Adimplentes    4580.0  35.3  11.1  18.0  27.0  35.0  43.0  80.0\n",
      "Inadimplentes   420.0  33.6  11.9  18.0  22.0  33.0  43.0  65.0\n",
      "\n",
      "📊 Taxa de Inadimplência por Faixa Etária:\n",
      "           Total  Inadimplentes  Taxa_Inadimplência\n",
      "age_group                                          \n",
      "18-25       1118            140               0.125\n",
      "26-35       1539            102               0.066\n",
      "36-45       1410            102               0.072\n",
      "46-55        714             57               0.080\n",
      "56+          219             19               0.087\n"
     ]
    }
   ],
   "source": [
    "print(\"\\nANÁLISE ETÁRIA\")\n",
    "print(\"-\" * 40)\n",
    "print(\"📊 Estatísticas de Idade por Status:\")\n",
    "age_stats = df.groupby('default')['AGE'].describe().round(1)\n",
    "age_stats.index = ['Adimplentes', 'Inadimplentes']\n",
    "print(age_stats[['count', 'mean', 'std', 'min', '25%', '50%', '75%', 'max']])\n",
    "\n",
    "df['age_group'] = pd.cut(df['AGE'], \n",
    "                        bins=[0, 25, 35, 45, 55, 100], \n",
    "                        labels=['18-25', '26-35', '36-45', '46-55', '56+'])\n",
    "\n",
    "print(\"\\n📊 Taxa de Inadimplência por Faixa Etária:\")\n",
    "age_group_analysis = df.groupby('age_group')['default'].agg(['count', 'sum', 'mean']).round(3)\n",
    "age_group_analysis.columns = ['Total', 'Inadimplentes', 'Taxa_Inadimplência']\n",
    "print(age_group_analysis)"
   ]
  },
  {
   "cell_type": "code",
   "execution_count": 21,
   "id": "fd0b68cf",
   "metadata": {},
   "outputs": [
    {
     "name": "stdout",
     "output_type": "stream",
     "text": [
      "\n",
      "ANÁLISE DO LIMITE DE CRÉDITO\n",
      "----------------------------------------\n",
      "📊 Estatísticas do Limite de Crédito por Status:\n",
      "                count      mean       std      min       25%       50%  \\\n",
      "Adimplentes    4580.0  509092.0  284897.0  10126.0  256526.0  516522.0   \n",
      "Inadimplentes   420.0  471050.0  296815.0  13631.0  205529.0  450778.0   \n",
      "\n",
      "                    75%       max  \n",
      "Adimplentes    752461.0  999964.0  \n",
      "Inadimplentes  741652.0  999913.0  \n",
      "\n",
      "📊 Taxa de Inadimplência por Faixa de Limite:\n",
      "                        Total  Inadimplentes  Taxa_Inadimplência\n",
      "limit_group                                                     \n",
      "Baixo (<50k)              196             24               0.122\n",
      "Médio-Baixo (50k-150k)    504             53               0.105\n",
      "Médio (150k-300k)         808             72               0.089\n",
      "Alto (300k-500k)          933             77               0.083\n",
      "Muito Alto (>500k)       2559            194               0.076\n"
     ]
    }
   ],
   "source": [
    "print(\"\\nANÁLISE DO LIMITE DE CRÉDITO\")\n",
    "print(\"-\" * 40)\n",
    "print(\"📊 Estatísticas do Limite de Crédito por Status:\")\n",
    "limit_stats = df.groupby('default')['LIMIT_BAL'].describe().round(0)\n",
    "limit_stats.index = ['Adimplentes', 'Inadimplentes']\n",
    "print(limit_stats[['count', 'mean', 'std', 'min', '25%', '50%', '75%', 'max']])\n",
    "\n",
    "df['limit_group'] = pd.cut(df['LIMIT_BAL'], \n",
    "                          bins=[0, 50000, 150000, 300000, 500000, float('inf')], \n",
    "                          labels=['Baixo (<50k)', 'Médio-Baixo (50k-150k)', 'Médio (150k-300k)', 'Alto (300k-500k)', 'Muito Alto (>500k)'])\n",
    "\n",
    "print(\"\\n📊 Taxa de Inadimplência por Faixa de Limite:\")\n",
    "limit_group_analysis = df.groupby('limit_group')['default'].agg(['count', 'sum', 'mean']).round(3)\n",
    "limit_group_analysis.columns = ['Total', 'Inadimplentes', 'Taxa_Inadimplência']\n",
    "print(limit_group_analysis)"
   ]
  },
  {
   "cell_type": "code",
   "execution_count": 22,
   "id": "6927027a",
   "metadata": {},
   "outputs": [
    {
     "name": "stdout",
     "output_type": "stream",
     "text": [
      "\n",
      "ANÁLISE DO HISTÓRICO DE PAGAMENTOS\n",
      "----------------------------------------\n",
      "📊 Análise de Atrasos:\n",
      "Atraso Médio por Status:\n",
      "               avg_payment_delay  total_delayed_months  max_delay\n",
      "Adimplentes                 1.20                  0.80       1.29\n",
      "Inadimplentes               1.95                  1.89       2.56\n",
      "\n",
      "📊 Taxa de Inadimplência por Meses com Atraso:\n",
      "                      Total  Inadimplentes  Taxa_Inadimplência\n",
      "total_delayed_months                                          \n",
      "0                      1887              2               0.001\n",
      "1                      2007            144               0.072\n",
      "2                       888            191               0.215\n",
      "3                       188             65               0.346\n",
      "4                        29             17               0.586\n",
      "5                         1              1               1.000\n"
     ]
    }
   ],
   "source": [
    "print(\"\\nANÁLISE DO HISTÓRICO DE PAGAMENTOS\")\n",
    "print(\"-\" * 40)\n",
    "\n",
    "pay_cols = ['PAY_0', 'PAY_1', 'PAY_2', 'PAY_3', 'PAY_4', 'PAY_5']\n",
    "df['avg_payment_delay'] = df[pay_cols].apply(lambda x: x[x > 0].mean() if any(x > 0) else 0, axis=1)\n",
    "df['total_delayed_months'] = df[pay_cols].apply(lambda x: sum(x > 0), axis=1)\n",
    "df['max_delay'] = df[pay_cols].max(axis=1)\n",
    "\n",
    "print(\"📊 Análise de Atrasos:\")\n",
    "print(\"Atraso Médio por Status:\")\n",
    "delay_stats = df.groupby('default')[['avg_payment_delay', 'total_delayed_months', 'max_delay']].mean().round(2)\n",
    "delay_stats.index = ['Adimplentes', 'Inadimplentes']\n",
    "print(delay_stats)\n",
    "\n",
    "print(\"\\n📊 Taxa de Inadimplência por Meses com Atraso:\")\n",
    "delayed_months_analysis = df.groupby('total_delayed_months')['default'].agg(['count', 'sum', 'mean']).round(3)\n",
    "delayed_months_analysis.columns = ['Total', 'Inadimplentes', 'Taxa_Inadimplência']\n",
    "print(delayed_months_analysis)"
   ]
  },
  {
   "cell_type": "code",
   "execution_count": 23,
   "id": "d267f4a7",
   "metadata": {},
   "outputs": [
    {
     "name": "stdout",
     "output_type": "stream",
     "text": [
      "\n",
      "ANÁLISE FINANCEIRA\n",
      "----------------------------------------\n",
      "📊 Estatísticas Financeiras por Status:\n",
      "               Fatura_Média  Pagamento_Médio  Taxa_Utilização\n",
      "Adimplentes        50070.94          9921.60             0.21\n",
      "Inadimplentes      50285.38          9934.03             0.26\n"
     ]
    }
   ],
   "source": [
    "print(\"\\nANÁLISE FINANCEIRA\")\n",
    "print(\"-\" * 40)\n",
    "\n",
    "df['avg_bill'] = df[['BILL_AMT1', 'BILL_AMT2', 'BILL_AMT3', 'BILL_AMT4', 'BILL_AMT5', 'BILL_AMT6']].mean(axis=1)\n",
    "df['avg_payment'] = df[['PAY_AMT1', 'PAY_AMT2', 'PAY_AMT3', 'PAY_AMT4', 'PAY_AMT5', 'PAY_AMT6']].mean(axis=1)\n",
    "df['utilization_rate'] = (df['avg_bill'] / df['LIMIT_BAL']).clip(0, 2)\n",
    "\n",
    "print(\"📊 Estatísticas Financeiras por Status:\")\n",
    "financial_stats = df.groupby('default')[['avg_bill', 'avg_payment', 'utilization_rate']].mean().round(2)\n",
    "financial_stats.index = ['Adimplentes', 'Inadimplentes']\n",
    "financial_stats.columns = ['Fatura_Média', 'Pagamento_Médio', 'Taxa_Utilização']\n",
    "print(financial_stats)"
   ]
  },
  {
   "cell_type": "code",
   "execution_count": 24,
   "id": "c7c6168d",
   "metadata": {},
   "outputs": [
    {
     "name": "stdout",
     "output_type": "stream",
     "text": [
      "\n",
      "PRINCIPAIS INSIGHTS\n",
      "----------------------------------------\n",
      " ➥ Taxa geral de inadimplência: 8.4%\n",
      " ➥ Clientes com histórico de atrasos têm maior risco\n",
      " ➥ Limites de crédito mais baixos correlacionam com maior inadimplência\n",
      " ➥ Idade não parece ser um fator determinante forte\n",
      " ➥ Taxa de utilização do cartão pode ser um indicador importante\n"
     ]
    }
   ],
   "source": [
    "print(\"\\nPRINCIPAIS INSIGHTS\")\n",
    "print(\"-\" * 40)\n",
    "print(\" ➥ Taxa geral de inadimplência: 8.4%\")\n",
    "print(\" ➥ Clientes com histórico de atrasos têm maior risco\")\n",
    "print(\" ➥ Limites de crédito mais baixos correlacionam com maior inadimplência\")  \n",
    "print(\" ➥ Idade não parece ser um fator determinante forte\")\n",
    "print(\" ➥ Taxa de utilização do cartão pode ser um indicador importante\")"
   ]
  }
 ],
 "metadata": {
  "kernelspec": {
   "display_name": ".azure-ml-env",
   "language": "python",
   "name": "python3"
  },
  "language_info": {
   "codemirror_mode": {
    "name": "ipython",
    "version": 3
   },
   "file_extension": ".py",
   "mimetype": "text/x-python",
   "name": "python",
   "nbconvert_exporter": "python",
   "pygments_lexer": "ipython3",
   "version": "3.12.7"
  }
 },
 "nbformat": 4,
 "nbformat_minor": 5
}
